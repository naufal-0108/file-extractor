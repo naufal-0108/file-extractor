{
 "cells": [
  {
   "cell_type": "code",
   "execution_count": null,
   "id": "bf72ecdd",
   "metadata": {},
   "outputs": [],
   "source": [
    "from unstructured.partition.docx import partition_docx\n",
    "file_path = \"/home/naufal/file_extractor/source/pdfs/Doc1.pdf\"\n",
    "with open(file_path, \"rb\") as file:\n",
    "    binary_file = file.read()"
   ]
  },
  {
   "cell_type": "code",
   "execution_count": null,
   "id": "61b101c4",
   "metadata": {},
   "outputs": [],
   "source": [
    "with open(\"/home/naufal/file_extractor/source/pdfs/Doc.pdf\", \"wb\") as file:\n",
    "    file.write(binary_file)"
   ]
  },
  {
   "cell_type": "code",
   "execution_count": null,
   "id": "3e24ad38",
   "metadata": {},
   "outputs": [],
   "source": [
    "import pymupdf\n",
    "file = pymupdf.open(\"/home/naufal/file_extractor/source/pdfs/Doc1.pdf\")\n",
    "extracted_text = file.load_page(0).get_textpage_ocr().extractTEXT(sort=True)\n",
    "file.close()\n"
   ]
  },
  {
   "cell_type": "code",
   "execution_count": null,
   "id": "b47736f4",
   "metadata": {},
   "outputs": [],
   "source": [
    "import tempfile\n",
    "import os\n",
    "import uuid\n",
    "USERID = str(uuid.uuid4().hex)\n",
    "CHATID = str(uuid.uuid4().hex)\n",
    "FILENAME = \"Doc1.pdf\"\n",
    "TEMP_STORAGE_PATH = tempfile.mkdtemp(prefix=\"files_\")\n",
    "FILEDIR = os.path.join(TEMP_STORAGE_PATH, USERID, CHATID)\n",
    "os.makedirs(FILEDIR, exist_ok=True)\n",
    "INPUT_PATH = os.path.join(FILEDIR, FILENAME)\n",
    "\n"
   ]
  },
  {
   "cell_type": "code",
   "execution_count": null,
   "id": "11c3ab23",
   "metadata": {},
   "outputs": [],
   "source": [
    "import shutil\n",
    "print(FILEDIR)\n",
    "if os.path.exists(FILEDIR):\n",
    "    shutil.rmtree(FILEDIR)\n",
    "    print(\"TEMP FILE HAS BEEN REMOVED\")"
   ]
  },
  {
   "cell_type": "code",
   "execution_count": null,
   "id": "9da3be37",
   "metadata": {},
   "outputs": [],
   "source": [
    "\n",
    "if os.path.exists(FILEDIR):\n",
    "    shutil.rmtree(FILEDIR)\n",
    "    print(\"TEMP FILE HAS BEEN REMOVED\")"
   ]
  },
  {
   "cell_type": "code",
   "execution_count": null,
   "id": "ca3e45fb",
   "metadata": {},
   "outputs": [],
   "source": [
    "print(os.path.exists(FILEDIR))"
   ]
  },
  {
   "cell_type": "code",
   "execution_count": null,
   "id": "8fd6107c",
   "metadata": {},
   "outputs": [],
   "source": [
    "with tempfile.TemporaryDirectory(prefix=\"file_\") as tmpdirname:\n",
    "    \n",
    "    print('created temporary directory', tmpdirname)\n",
    "            ocr_command = [\n",
    "            \"ocrmypdf\", \"--output-type\", \"pdf\", \"-j\", str(CORES_PER_REQUEST),\n",
    "            \"--tesseract-timeout\", str(OCR_TIMEOUT), \"--skip-big\", \"4\",\n",
    "            \"-f\", self.input_path, output_path\n",
    "        ]\n"
   ]
  },
  {
   "cell_type": "code",
   "execution_count": 1,
   "id": "9463d75a",
   "metadata": {},
   "outputs": [
    {
     "name": "stdout",
     "output_type": "stream",
     "text": [
      "['/home/naufal/.local/share/uv/python/cpython-3.11.13-linux-x86_64-gnu/lib/python311.zip', '/home/naufal/.local/share/uv/python/cpython-3.11.13-linux-x86_64-gnu/lib/python3.11', '/home/naufal/.local/share/uv/python/cpython-3.11.13-linux-x86_64-gnu/lib/python3.11/lib-dynload', '', '/home/naufal/file_extractor/.venv/lib/python3.11/site-packages']\n"
     ]
    }
   ],
   "source": [
    "import sys\n",
    "print(sys.path)\n",
    "sys.path.append(\"~/file_extractor\")"
   ]
  },
  {
   "cell_type": "code",
   "execution_count": null,
   "id": "1271f26d",
   "metadata": {},
   "outputs": [],
   "source": [
    "print(sys.path)"
   ]
  },
  {
   "cell_type": "code",
   "execution_count": null,
   "id": "3a082839",
   "metadata": {},
   "outputs": [],
   "source": [
    "file_path = \"/home/naufal/file_extractor/source/pdfs/Doc1.pdf\"\n",
    "with open(file_path, \"rb\") as file:\n",
    "    binary_file = file.read()\n",
    "\n",
    "with tempfile.TemporaryDirectory(prefix=\"file_\") as temp_dir:\n",
    "    file_dir = os.path.join(temp_dir, \"userId\", \"chatId\")\n",
    "    os.makedirs(file_dir, exist_ok=True)\n",
    "    print(f\"Path exists? {os.path.exists(file_dir)}\")\n",
    "    \n",
    "    file_save_path = os.path.join(file_dir, \"Doc1.pdf\")\n",
    "    \n",
    "    with open(file_save_path, \"wb\") as file:\n",
    "        file.write(binary_file)"
   ]
  },
  {
   "cell_type": "code",
   "execution_count": 8,
   "id": "0ec3322f",
   "metadata": {},
   "outputs": [],
   "source": [
    "import os\n",
    "import uuid\n",
    "import tempfile\n",
    "import asyncio\n",
    "import subprocess\n",
    "from io import BytesIO\n",
    "from pathlib import Path\n",
    "from loguru import logger\n",
    "from typing import Dict, Any\n",
    "from file_extractor.tools.pdf_extractor import PDFExtractor\n",
    "from file_extractor.tools.word_extractor import WordDocumentExtractor\n",
    "from concurrent.futures import ProcessPoolExecutor\n",
    "\n",
    "MAX_PROCESS_WORKERS = 4\n",
    "\n",
    "process_executor = ProcessPoolExecutor(max_workers=MAX_PROCESS_WORKERS)\n",
    "\n",
    "file_path = \"/home/naufal/file_extractor/source/pdfs/Doc1.pdf\"\n",
    "\n",
    "async def main(filePath: str, userId: str, chatId: str) -> Dict[str, Any]:\n",
    "\n",
    "    logger.info(f\"Processing request from ({userId},{chatId}).\")\n",
    "\n",
    "    # Open file to binary:\n",
    "    with open(filePath, \"rb\") as f:\n",
    "        binary_file = f.read()\n",
    "\n",
    "    filename = Path(filePath).name\n",
    "\n",
    "    if filename.lower().endswith(\"pdf\"):\n",
    "        try:\n",
    "            with tempfile.TemporaryDirectory(prefix=\"file_\") as temp_dir:\n",
    "\n",
    "                    file_dir = os.path.join(temp_dir, userId, chatId)\n",
    "                    os.makedirs(file_dir, exist_ok=True)\n",
    "\n",
    "                    file_path = os.path.join(file_dir, filename)\n",
    "                    with open(file_path, \"wb\") as file:\n",
    "                        file.write(binary_file)\n",
    "\n",
    "                    # start pdf extraction\n",
    "                    extractor = PDFExtractor(max_workers=MAX_PROCESS_WORKERS)\n",
    "                    result = await extractor.extract_async(file=binary_file, filename=filename, extract_tables=False, executor=process_executor)\n",
    "\n",
    "                    if result[\"status\"]:\n",
    "                        \n",
    "                        logger.info(\"Extraction successful.\")\n",
    "\n",
    "                        # cleanup\n",
    "                        process_executor.shutdown(wait=True)\n",
    "\n",
    "                        return result\n",
    "                    \n",
    "                    # Fall back to OCR\n",
    "                    logger.info(\"Fall back to OCR\")\n",
    "                    ocr_output_path = os.path.join(file_dir, f\"ocr_{filename}\")\n",
    "                    ocr_command = [\n",
    "                                    \"ocrmypdf\", \"--output-type\", \"pdf\", \"--jobs\", str(MAX_PROCESS_WORKERS), \"--language\", \"eng+ind\", \"-q\", \"-f\", file_path, ocr_output_path\n",
    "                                ]\n",
    "                    try:\n",
    "                        process = await asyncio.create_subprocess_exec(*ocr_command, stdout=subprocess.PIPE, stderr=subprocess.PIPE)\n",
    "                        stdout, stderr = await process.communicate()\n",
    "\n",
    "                        if process.returncode != 0:\n",
    "                            logger.error(f\"OCR extraction failed: {stderr.decode()}\")\n",
    "\n",
    "                            # cleanup\n",
    "                            process_executor.shutdown(wait=True)\n",
    "\n",
    "                            raise\n",
    "                        \n",
    "                        logger.info(f\"OCR extraction completed successfully. Output saved to {ocr_output_path}\")\n",
    "                        logger.info(\"Retry extraction again.\")\n",
    "\n",
    "                        with open(ocr_output_path, 'rb') as file:\n",
    "                            binary_file = file.read()\n",
    "\n",
    "                        result = await extractor.extract_async(file=binary_file, filename=filename, extract_tables=False, executor=process_executor)\n",
    "\n",
    "                        if result[\"status\"]:\n",
    "                            \n",
    "                            logger.info(\"Extraction successful.\")\n",
    "                            \n",
    "                            # cleanup\n",
    "                            process_executor.shutdown(wait=True)\n",
    "\n",
    "                            return result\n",
    "                        \n",
    "                        else:\n",
    "                            logger.error(\"No content found after being ocrd.\")\n",
    "                            \n",
    "                            # cleanup\n",
    "                            process_executor.shutdown(wait=True)\n",
    "\n",
    "                            return {\"error\": \"No content found\"}\n",
    "                        \n",
    "                    except Exception as e:\n",
    "                        \n",
    "                        # cleanup\n",
    "                        process_executor.shutdown(wait=True)\n",
    "\n",
    "                        raise e\n",
    "        except Exception as e:\n",
    "            # cleanup\n",
    "            process_executor.shutdown(True)\n",
    "            raise e\n",
    "\n",
    "    else:\n",
    "        try:\n",
    "            extractor = WordDocumentExtractor(infer_table_structure=True)\n",
    "            result = await extractor.extract_async(file=BytesIO(binary_file), filename=filename, executor=process_executor)\n",
    "\n",
    "            if result[\"status\"]:\n",
    "                logger.info(\"Extraction successful.\")\n",
    "\n",
    "                # cleanup\n",
    "                process_executor.shutdown(wait=True)\n",
    "\n",
    "                return result\n",
    "            \n",
    "            else:\n",
    "                logger.error(\"No content found\")\n",
    "\n",
    "                # cleanup\n",
    "                process_executor.shutdown(wait=True)\n",
    "                return {\"error\": \"NO content found\"}\n",
    "            \n",
    "        except Exception as e:\n",
    "             # cleanup\n",
    "             process_executor.shutdown(wait=True)\n",
    "             raise e"
   ]
  },
  {
   "cell_type": "code",
   "execution_count": 9,
   "id": "9f43835d",
   "metadata": {},
   "outputs": [
    {
     "name": "stderr",
     "output_type": "stream",
     "text": [
      "\u001b[32m2025-09-03 14:47:35.251\u001b[0m | \u001b[1mINFO    \u001b[0m | \u001b[36m__main__\u001b[0m:\u001b[36mmain\u001b[0m:\u001b[36m22\u001b[0m - \u001b[1mProcessing request from (47aab16d8d8b458d8feaa27a6539bf64,c62076ca88ac464fbc49dd0cdf30e4e7).\u001b[0m\n",
      "\u001b[32m2025-09-03 14:47:35.253\u001b[0m | \u001b[1mINFO    \u001b[0m | \u001b[36mfile_extractor.tools.pdf_extractor\u001b[0m:\u001b[36m__init__\u001b[0m:\u001b[36m156\u001b[0m - \u001b[1mInitialized PDFExtractor with 4 max workers\u001b[0m\n",
      "\u001b[32m2025-09-03 14:47:35.254\u001b[0m | \u001b[1mINFO    \u001b[0m | \u001b[36mfile_extractor.tools.pdf_extractor\u001b[0m:\u001b[36mextract_async\u001b[0m:\u001b[36m231\u001b[0m - \u001b[1mStarting text extraction for Doc1.pdf (1 pages) with 4 workers\u001b[0m\n",
      "\u001b[32m2025-09-03 14:47:35.296\u001b[0m | \u001b[1mINFO    \u001b[0m | \u001b[36mfile_extractor.tools.pdf_extractor\u001b[0m:\u001b[36mextract_async\u001b[0m:\u001b[36m276\u001b[0m - \u001b[1mExtraction completed for Doc1.pdf: 0/1 pages successful\u001b[0m\n",
      "\u001b[32m2025-09-03 14:47:35.299\u001b[0m | \u001b[1mINFO    \u001b[0m | \u001b[36m__main__\u001b[0m:\u001b[36mmain\u001b[0m:\u001b[36m55\u001b[0m - \u001b[1mFall back to OCR\u001b[0m\n",
      "\u001b[32m2025-09-03 14:47:41.340\u001b[0m | \u001b[1mINFO    \u001b[0m | \u001b[36m__main__\u001b[0m:\u001b[36mmain\u001b[0m:\u001b[36m72\u001b[0m - \u001b[1mOCR extraction completed successfully. Output saved to /tmp/file_zsqkju5n/47aab16d8d8b458d8feaa27a6539bf64/c62076ca88ac464fbc49dd0cdf30e4e7/ocr_Doc1.pdf\u001b[0m\n",
      "\u001b[32m2025-09-03 14:47:41.342\u001b[0m | \u001b[1mINFO    \u001b[0m | \u001b[36m__main__\u001b[0m:\u001b[36mmain\u001b[0m:\u001b[36m73\u001b[0m - \u001b[1mRetry extraction again.\u001b[0m\n",
      "\u001b[32m2025-09-03 14:47:41.350\u001b[0m | \u001b[1mINFO    \u001b[0m | \u001b[36mfile_extractor.tools.pdf_extractor\u001b[0m:\u001b[36mextract_async\u001b[0m:\u001b[36m231\u001b[0m - \u001b[1mStarting text extraction for Doc1.pdf (1 pages) with 4 workers\u001b[0m\n",
      "\u001b[32m2025-09-03 14:47:41.375\u001b[0m | \u001b[1mINFO    \u001b[0m | \u001b[36mfile_extractor.tools.pdf_extractor\u001b[0m:\u001b[36mextract_async\u001b[0m:\u001b[36m276\u001b[0m - \u001b[1mExtraction completed for Doc1.pdf: 1/1 pages successful\u001b[0m\n",
      "\u001b[32m2025-09-03 14:47:41.376\u001b[0m | \u001b[1mINFO    \u001b[0m | \u001b[36m__main__\u001b[0m:\u001b[36mmain\u001b[0m:\u001b[36m82\u001b[0m - \u001b[1mExtraction successful.\u001b[0m\n"
     ]
    }
   ],
   "source": [
    "USERID = str(uuid.uuid4().hex)\n",
    "CHATID = str(uuid.uuid4().hex)\n",
    "file_path=\"/home/naufal/file_extractor/source/pdfs/Doc1.pdf\"\n",
    "extraction_result = await main(filePath=file_path, userId=USERID, chatId=CHATID)"
   ]
  },
  {
   "cell_type": "code",
   "execution_count": 4,
   "id": "2bda8ad3",
   "metadata": {},
   "outputs": [
    {
     "name": "stdout",
     "output_type": "stream",
     "text": [
      "{'filename': 'Kompilasi Tabel HC.docx', 'total_pages': 10, 'pages': [{'page_index': 0, 'text': \"Kompilasi Tabel (Versi Refaktorisasi)\\nA. Nama tabel: employees\\nSkema tabel:\\n- employee_id (INTEGER/UUID) (Primary Key)\\n- name (VARCHAR)\\n- age (INTEGER)\\n- gender (VARCHAR)\\n- role (VARCHAR)\\n- department (VARCHAR)\\n- address_state (VARCHAR)\\n- address_municipality (VARCHAR)\\n- work_email (VARCHAR)\\n- phone_number (VARCHAR)\\n- proficiency_level (VARCHAR)\\n- kpi_score (NUMERIC)\\n\\nDeskripsi fields (variabel):\\n- employee_id: ID unik untuk setiap karyawan, berfungsi sebagai primary key.\\n- Contoh Nilai: 101, 205, b5e3f2a1-c7d9-4b1e-8a0f-9d2c6e3b8a1d\\n- name: Nama lengkap karyawan.\\n- Contoh Nilai: 'Dewi Anggraini', 'Budi Santoso'\\n- age: Usia karyawan dalam angka.\\n- Contoh Nilai: 28, 45\\n- gender: Jenis kelamin karyawan.\\n- Contoh Nilai: 'Perempuan', 'Laki-laki'\\n- role: Jabatan atau peran karyawan.\\n- Contoh Nilai: 'Manajer Proyek', 'Analis Data Senior'\", 'status': True}, {'page_index': 1, 'text': \"- department: Departemen tempat karyawan bekerja.\\n- Contoh Nilai: 'IT', 'Pemasaran', 'Keuangan'\\n- address_state: Provinsi dari alamat tinggal.\\n- Contoh Nilai: 'DKI Jakarta', 'Jawa Barat'\\n- address_municipality: Kota atau kabupaten dari alamat tinggal.\\n- Contoh Nilai: 'Jakarta Pusat', 'Bandung'\\n- work_email: Alamat email resmi untuk bekerja.\\n- Contoh Nilai: 'dewi.anggraini@perusahaan.com'\\n- phone_number: Nomor telepon karyawan.\\n- Contoh Nilai: '+6281234567890'\\n- proficiency_level: Tingkat kemahiran umum karyawan dalam perannya (hasil dari penilaian kinerja).\\n- Contoh Nilai: 'Ahli', 'Mahir', 'Menengah', 'Dasar'\\n- kpi_score: Skor kinerja karyawan berdasarkan metrik Key Performance Indicators (KPI).\\n- Contoh Nilai: 95.5, 75.0, 88.25\\n\\nB. Nama tabel: skills\\nSkema tabel:\\n- skill_id (INTEGER/UUID) (Primary Key)\\n- name (VARCHAR)\\n- category (VARCHAR ENUM ['hardskill', 'softskill'])\\n\\nDeskripsi fields (variabel):\\n- skill_id: ID unik untuk setiap keahlian, berfungsi sebagai primary key.\\n- Contoh Nilai: 1001, 1002, 1003\\n- name: Nama dari keahlian tersebut.\\n- Contoh Nilai: 'Python', 'Komunikasi', 'Manajemen Proyek'\", 'status': True}, {'page_index': 2, 'text': \"- category: Kategori keahlian, antara hardskill (teknis) atau softskill (interpersonal).\\n- Contoh Nilai: 'hardskill', 'softskill'\\n\\nC. Nama tabel: training\\nSkema tabel:\\n- training_id (INTEGER/UUID) (Primary Key)\\n- name (VARCHAR)\\n- skill_id (INTEGER/UUID) (Foreign Key ke skills)\\n- description (VARCHAR)\\n\\nDeskripsi fields (variabel):\\n- training_id: ID unik untuk setiap program pelatihan, berfungsi sebagai primary key.\\n- Contoh Nilai: 1, 2, a1b2c3d4-e5f6-7a8b-9c0d-1e2f3a4b5c6d\\n- name: Nama dari program pelatihan.\\n- Contoh Nilai: 'Pelatihan Dasar SQL', 'Workshop Kepemimpinan'\\n- skill_id: ID keahlian yang menjadi fokus pelatihan, terhubung ke tabel skills.\\n- Contoh Nilai: 1001, 1002\\n- description: Deskripsi singkat mengenai isi atau tujuan dari program pelatihan.\\n- Contoh Nilai: 'Pelatihan ini mencakup dasar-dasar bahasa SQL untuk analisis data.'\\n\\nD. Nama tabel: job_vacancies\\nSkema tabel:\\n- job_id (INTEGER/UUID) (Primary Key)\\n- title (VARCHAR)\\n- description (VARCHAR)\\n- hardskill_requirements (VARCHAR)\", 'status': True}, {'page_index': 3, 'text': \"- softskill_requirements (VARCHAR)\\n- location (VARCHAR)\\n- status (VARCHAR ENUM ['contract', 'full-time', 'intern'])\\n- posting_date (DATETIME)\\n- closing_date (DATETIME)\\n\\nDeskripsi fields (variabel):\\n- job_id: ID unik untuk setiap lowongan pekerjaan, berfungsi sebagai primary key.\\n- Contoh Nilai: JV001, JV002, e5f6a1b2-c3d4-7a8b-9c0d-1e2f3a4b5c6d\\n- title: Judul dari lowongan pekerjaan.\\n- Contoh Nilai: 'Analis Data Senior', 'Staf Pemasaran'\\n- description: Deskripsi detail mengenai peran dan tanggung jawab pekerjaan.\\n- Contoh Nilai: 'Bertanggung jawab untuk menganalisis dan menafsirkan set data besar.'\\n- hardskills_requirement: Deskripski hardskills yang diperlukan untuk job tersebut.\\n- Contoh Nilai: ‘Dapat menggunakan PowerBI, tableau, dan Odoo sebagai data analysis tools, dll’\\n- softskills_requirement: Deskripski softskills yang diperlukan untuk job tersebut.\\n- Contoh Nilai: ‘Peserta dapat melalukan kerja sama tim dengan baik dan mampu menyelesaikan suatu permasalahan secara cermat dan terorganisisr.’\\n- location: Lokasi kantor atau tempat kerja dari posisi yang tersedia.\\n- Contoh Nilai: 'Jakarta Pusat', 'Yogyakarta', 'Remote'\\n- status: Status pekerjaan yang ditawarkan.\\n- Contoh Nilai: 'full-time', 'contract', 'intern'\\n- posting_date: Tanggal dan waktu lowongan pekerjaan dipublikasikan.\\n- Contoh Nilai: '2025-08-23 09:00:00'\\n- closing_date: Tanggal dan waktu batas akhir pendaftaran.\", 'status': True}, {'page_index': 4, 'text': \"- Contoh Nilai: '2025-09-23 17:00:00'\\n\\nE. Nama tabel: employee_training\\nSkema tabel:\\n- employee_id (INTEGER/UUID) (Foreign Key ke employees)\\n- training_id (INTEGER/UUID) (Foreign Key ke training)\\n\\nDeskripsi fields (variabel):\\n- employee_id: ID unik karyawan, menghubungkan ke tabel employees.\\n- Contoh Nilai: 101, b5e3f2a1-c7d9-4b1e-8a0f-9d2c6e3b8a1d\\n- training_id: ID unik pelatihan, menghubungkan ke tabel training.\\n- Contoh Nilai: 1, a1b2c3d4-e5f6-7a8b-9c0d-1e2f3a4b5c6d\\n\\nF. Nama tabel: employee_skills (BARU)\\nTabel ini berfungsi untuk memetakan keahlian yang dimiliki oleh setiap karyawan.\\nSkema tabel:\\n- employee_id (INTEGER/UUID) (Foreign Key ke employees)\\n- skill_id (INTEGER/UUID) (Foreign Key ke skills)\\n- skill_level (VARCHAR ENUM ['Dasar', 'Menengah', 'Mahir', 'Ahli'])\\n\\nDeskripsi fields (variabel):\\n- employee_id: ID unik karyawan, menghubungkan ke tabel employees.\\n- Contoh Nilai: 101, 205\\n- skill_id: ID unik keahlian, menghubungkan ke tabel skills.\\n- Contoh Nilai: 1001, 1002\\n- proficiency_level: Tingkat kemahiran karyawan pada keahlian spesifik tersebut.\\n- Contoh Nilai: 'Mahir', 'Menengah'\", 'status': True}, {'page_index': 5, 'text': \"H. Nama tabel: job_history\\nTabel ini berfungsi untuk menyimpan riwayat pekerjaan setiap karyawan, baik di perusahaan saat ini (untuk melacak promosi atau perubahan peran) maupun di perusahaan sebelumnya.\\n- Skema tabel:\\n- history_id (INTEGER/UUID) (Primary Key)\\n- employee_id (INTEGER/UUID) (Foreign Key ke employees)\\n- start_date (DATE)\\n- end_date (DATE)\\n- role (VARCHAR)\\n- company (VARCHAR)\\n- role_description (VARCHAR)\\n- Deskripsi fields (variabel):\\n- history_id: ID unik untuk setiap entri riwayat pekerjaan, berfungsi sebagai primary key.\\n- Contoh Nilai: JH001, JH002, 8a0f9d2c-6e3b-4b1e-8a0f-9d2c6e3b8a1d\\n- employee_id: ID karyawan yang memiliki riwayat pekerjaan ini, terhubung ke tabel employees.\\n- Contoh Nilai: 101, b5e3f2a1-c7d9-4b1e-8a0f-9d2c6e3b8a1d\\n- start_date: Tanggal dimulainya pekerjaan pada peran tersebut.\\n- Contoh Nilai: 2022-01-15\\n- end_date: Tanggal berakhirnya pekerjaan. Dibiarkan NULL jika masih aktif di peran tersebut.\\n- Contoh Nilai: 2024-05-30, NULL\\n- role: Jabatan atau peran yang dipegang.\\n- Contoh Nilai: 'Junior Data Analyst', 'Project Manager'\\n- company: Nama perusahaan tempat bekerja.\", 'status': True}, {'page_index': 6, 'text': \"- Contoh Nilai: 'Perusahaan A', 'Perusahaan Saat Ini'\\n- role_description: Deskripsi singkat mengenai tanggung jawab utama dalam peran tersebut.\\n- Contoh Nilai: 'Menganalisis data penjualan untuk laporan bulanan.', 'Memimpin tim pengembangan untuk proyek aplikasi mobile.'\\n\\nI. Nama tabel: talent_box\\nTabel ini berisi kategori-kategori dalam model talent management, seperti 9-Box Grid, yang digunakan untuk memetakan karyawan berdasarkan kinerja dan potensi.\\n\\n- Skema tabel:\\n- talent_id (INTEGER/UUID) (Primary Key)\\n- category (VARCHAR)\\n- description (VARCHAR)\\n- Deskripsi fields (variabel):\\n- talent_id: ID unik untuk setiap kategori talenta, berfungsi sebagai primary key.\\n- Contoh Nilai: 1, 2, 9\\n- category: Nama kategori talenta.\\n- Contoh Nilai: 'Future Leader', 'High Performer', 'Core Player', 'Inconsistent Player'\\n- description: Penjelasan singkat mengenai arti dari setiap kategori.\\n- Contoh Nilai: 'Kinerja Tinggi, Potensi Tinggi', 'Kinerja Tinggi, Potensi Sedang'\\n\\nJ. Nama tabel: employee_talent_box\\nTabel ini adalah tabel penghubung yang menempatkan setiap karyawan ke dalam kategori talenta tertentu pada periode penilaian yang spesifik.\\n\\n- Skema tabel:\", 'status': True}, {'page_index': 7, 'text': \"- employee_id (INTEGER/UUID) (Foreign Key ke employees)\\n- talent_id (INTEGER/UUID) (Foreign Key ke talent_box)\\n- assessment_date (DATE)\\n- Deskripsi fields (variabel):\\n- employee_id: ID unik karyawan, menghubungkan ke tabel employees.\\n- Contoh Nilai: 101, 205\\n- talent_id: ID unik kategori talenta, menghubungkan ke tabel talent_box.\\n- Contoh Nilai: 1, 5\\n- assessment_date: Tanggal kapan penilaian talenta ini dilakukan, memungkinkan pelacakan perkembangan karyawan dari waktu ke waktu.\\n- Contoh Nilai: 2024-12-31, 2025-06-30\\n\\nK. Nama tabel: employee_travel_history\\nTabel ini berfungsi untuk mencatat riwayat perjalanan dinas yang dilakukan oleh karyawan, termasuk detail tujuan, durasi, dan vendor yang digunakan.\\n- Skema tabel:\\n- travel_history_id (INTEGER/UUID) (Primary Key)\\n- employee_id (INTEGER/UUID) (Foreign Key ke employees)\\n- vendor_name (VARCHAR)\\n- vendor_type (VARCHAR ENUM ['Airline', 'Hotel', 'Transportasi Darat', 'Lainnya'])\\n- travel_start_date (DATE)\\n- travel_days (INTEGER)\\n- travel_purpose (VARCHAR)\\n- travel_dest_state (VARCHAR)\\n- travel_dest_municipality (VARCHAR)\\n- travel_dest_address (VARCHAR)\", 'status': True}, {'page_index': 8, 'text': \"- vendor_service_cost (NUMERIC)\\n- vendor_rating (NUMERIC)\\n- vendor_review (TEXT)\\n- Deskripsi fields (variabel):\\n- travel_history_id: ID unik untuk setiap catatan perjalanan dinas. Ini harus menjadi Primary Key untuk memastikan setiap entri unik dan tidak ada duplikat.\\n- Contoh Nilai: TRV001, TRV002, 9c0d1e2f-3a4b-5c6d-7a8b-9c0d1e2f3a4b\\n- employee_id: ID karyawan yang melakukan perjalanan, terhubung ke tabel employees. Ini penting untuk mengetahui siapa yang melakukan perjalanan.\\n- Contoh Nilai: 101, b5e3f2a1-c7d9-4b1e-8a0f-9d2c6e3b8a1d\\n- vendor_name: Nama vendor penyedia jasa perjalanan.\\n- Contoh Nilai: 'Garuda Indonesia', 'Hotel Indonesia Kempinski', 'Blue Bird Group'\\n- vendor_type: Jenis layanan yang disediakan oleh vendor.\\n- Contoh Nilai: 'Airline', 'Hotel', 'Transportasi Darat'\\n- travel_start_date: Tanggal dimulainya perjalanan dinas.\\n- Contoh Nilai: 2025-09-10\\n- travel_days: Jumlah hari perjalanan dinas.\\n- Contoh Nilai: 3, 5\\n- travel_purpose: Tujuan atau alasan utama dari perjalanan dinas.\\n- Contoh Nilai: 'Pertemuan Klien Tahunan', 'Konferensi Teknologi', 'Survei Lapangan'\\n- travel_dest_state: Provinsi tujuan perjalanan.\\n- Contoh Nilai: 'Jawa Timur', 'Bali'\\n- travel_dest_municipality: Kota atau kabupaten tujuan perjalanan.\\n- Contoh Nilai: 'Surabaya', 'Denpasar'\", 'status': True}, {'page_index': 9, 'text': \"- travel_dest_address: Alamat spesifik tujuan, seperti lokasi hotel atau kantor klien. (Bisa bersifat opsional).\\n- Contoh Nilai: 'Jl. Basuki Rahmat No. 123, Surabaya'\\n- vendor_service_cost: Biaya layanan dari vendor dalam Rupiah.\\n- Contoh Nilai: 1500000, 2500000\\n- vendor_rating: Peringkat yang diberikan karyawan terhadap layanan vendor, dengan skala 1 sampai 5.\\n- Contoh Nilai: 4.5, 3.0, 5.0\\n- vendor_review: Ulasan atau masukan kualitatif dari karyawan mengenai layanan vendor.\\n- Contoh Nilai: 'Pelayanannya sangat memuaskan dan tepat waktu.', 'Kamar hotel bersih, namun koneksi internet lambat.'\", 'status': True}], 'success_count': 10, 'failed_count': 0, 'status': True, 'file_type': 'docx'}\n"
     ]
    }
   ],
   "source": [
    "print(extraction_result)"
   ]
  },
  {
   "cell_type": "code",
   "execution_count": null,
   "id": "6f0a2466",
   "metadata": {},
   "outputs": [],
   "source": [
    "from unstructured.partition.docx import partition_docx\n",
    "from io import BytesIO\n",
    "with open(file_path, \"rb\") as file:\n",
    "    bytes_file = BytesIO(file.read())\n",
    "    elements = partition_docx(file=bytes_file)\n"
   ]
  },
  {
   "cell_type": "code",
   "execution_count": null,
   "id": "e6b1a31b",
   "metadata": {},
   "outputs": [],
   "source": [
    "ocr_command = [\n",
    "            \"ocrmypdf\", \"--output-type\", \"pdf\", \"-f\", \"/home/naufal/file_extractor/source/pdfs/test.pdf\", \"/home/naufal/file_extractor/source/pdfs/ocrd_pdfs/test.pdf\"\n",
    "        ]\n",
    "subprocess.run(ocr_command)"
   ]
  },
  {
   "cell_type": "code",
   "execution_count": null,
   "id": "ba0c5b20",
   "metadata": {},
   "outputs": [],
   "source": [
    "import pymupdf\n",
    "\n",
    "with pymupdf.open(\"/home/naufal/file_extractor/source/pdfs/ocrd_pdfs/test.pdf\") as file:\n",
    "    result = file.load_page(0).get_text()\n",
    "\n",
    "print(result)"
   ]
  },
  {
   "cell_type": "code",
   "execution_count": 30,
   "id": "ed28e1f6",
   "metadata": {},
   "outputs": [],
   "source": [
    "from pydantic import BaseModel, Field\n",
    "from dataclasses import dataclass\n",
    "\n",
    "@dataclass\n",
    "class SampleData:\n",
    "    param_1: int = 5\n",
    "    param_2: str = 5\n"
   ]
  },
  {
   "cell_type": "code",
   "execution_count": 29,
   "id": "72412ff2",
   "metadata": {},
   "outputs": [
    {
     "name": "stdout",
     "output_type": "stream",
     "text": [
      "<class 'int'>\n"
     ]
    }
   ],
   "source": [
    "print(type(SampleData.param_2))"
   ]
  }
 ],
 "metadata": {
  "kernelspec": {
   "display_name": "file_extractor",
   "language": "python",
   "name": "python3"
  },
  "language_info": {
   "codemirror_mode": {
    "name": "ipython",
    "version": 3
   },
   "file_extension": ".py",
   "mimetype": "text/x-python",
   "name": "python",
   "nbconvert_exporter": "python",
   "pygments_lexer": "ipython3",
   "version": "3.11.13"
  }
 },
 "nbformat": 4,
 "nbformat_minor": 5
}
